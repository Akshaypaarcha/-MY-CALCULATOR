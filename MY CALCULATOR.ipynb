{
 "cells": [
  {
   "cell_type": "code",
   "execution_count": 1,
   "id": "6cd6bfb8",
   "metadata": {},
   "outputs": [
    {
     "name": "stdout",
     "output_type": "stream",
     "text": [
      "enter the operator/\n",
      "enter the 1 number10\n",
      "enter the 2 number2\n",
      "5.0\n"
     ]
    }
   ],
   "source": [
    "def calc(op,a,b):\n",
    "    if op == '+':\n",
    "        add = a + b\n",
    "        print(add)\n",
    "    elif op == '-':\n",
    "        sub = a - b\n",
    "        print(sub)\n",
    "    elif op == '*':\n",
    "        multiply = a * b\n",
    "        print(multiply)\n",
    "    elif op == '/':\n",
    "        divison = a / b\n",
    "        print(divison)\n",
    "        \n",
    "    else:\n",
    "        print(\"not valid!\")\n",
    "op = input(\"enter the operator\")\n",
    "a = float(input(\"enter the 1 number\"))\n",
    "b = float(input(\"enter the 2 number\"))\n",
    "calc(op,a,b)"
   ]
  },
  {
   "cell_type": "code",
   "execution_count": null,
   "id": "9ded76df",
   "metadata": {},
   "outputs": [],
   "source": []
  }
 ],
 "metadata": {
  "kernelspec": {
   "display_name": "Python 3 (ipykernel)",
   "language": "python",
   "name": "python3"
  },
  "language_info": {
   "codemirror_mode": {
    "name": "ipython",
    "version": 3
   },
   "file_extension": ".py",
   "mimetype": "text/x-python",
   "name": "python",
   "nbconvert_exporter": "python",
   "pygments_lexer": "ipython3",
   "version": "3.9.12"
  }
 },
 "nbformat": 4,
 "nbformat_minor": 5
}
